{
 "cells": [
  {
   "cell_type": "code",
   "execution_count": 1,
   "metadata": {
    "collapsed": true
   },
   "outputs": [],
   "source": [
    "import sys\n",
    "import numpy as np\n",
    "import cv2\n",
    "sys.path.append('..')    \n",
    "from letter_extraction import ThresholdParams, ThresholdDetector, EdgeDetector, ChunkExtractor\n",
    "from letter_extraction import ExtractFragmentParams, ContoursExtractor, CompositeExtractor\n",
    "from metrics import KeyboardLayout, LetterExtractionMetric"
   ]
  },
  {
   "cell_type": "code",
   "execution_count": 2,
   "metadata": {
    "collapsed": true
   },
   "outputs": [],
   "source": [
    "layout_func = (lambda x: KeyboardLayout(\"../keyboards/layouts/keyboard{}.layout\".format(x), '../'))\n",
    "keyboard_layouts = map(layout_func, range(1, 26))"
   ]
  },
  {
   "cell_type": "code",
   "execution_count": 3,
   "metadata": {
    "collapsed": true
   },
   "outputs": [],
   "source": [
    "def test_contours_extractor(contours_detector, extract_params):\n",
    "    contours_extractor = ContoursExtractor(contours_detector, extract_params)\n",
    "    return LetterExtractionMetric.score_layouts(keyboard_layouts, contours_extractor)\n",
    "\n",
    "def test_extract_params(contours_detector):\n",
    "    max_score = 0.0\n",
    "    best_params = None\n",
    "    for min_scale in [50, 100]:\n",
    "        for max_scale in [20, 10]:\n",
    "            for extract_scale in [0.9, 1.0, 1.1, 1.2, 1.3, 1.5]:\n",
    "                extract_params = ExtractFragmentParams(min_scale, max_scale, extract_scale)\n",
    "                score = test_contours_extractor(contours_detector, extract_params)\n",
    "                if score > max_score:\n",
    "                    score = max_score\n",
    "                    best_params = extract_params\n",
    "    return {'score': max_score, 'params': best_params}"
   ]
  },
  {
   "cell_type": "markdown",
   "metadata": {},
   "source": [
    "## Testing ChunkDetector params"
   ]
  },
  {
   "cell_type": "code",
   "execution_count": 9,
   "metadata": {
    "collapsed": true
   },
   "outputs": [],
   "source": [
    "def test_chunk_detector_params():\n",
    "    max_score = 0.0\n",
    "    for chunk_count in np.linspace(20, 80, 13):\n",
    "        chunk_extractor = ChunkExtractor(chunk_count)\n",
    "        score = LetterExtractionMetric.score_layouts(keyboard_layouts, chunk_extractor)\n",
    "        print(\"Chunk count: {}, score: {}\".format(chunk_count, score))"
   ]
  },
  {
   "cell_type": "code",
   "execution_count": 10,
   "metadata": {},
   "outputs": [
    {
     "name": "stdout",
     "output_type": "stream",
     "text": [
      "Chunk count: 20.0, score: 133.551175214\n",
      "Chunk count: 25.0, score: 342.321594115\n",
      "Chunk count: 30.0, score: 547.640452274\n",
      "Chunk count: 35.0, score: 698.855332663\n",
      "Chunk count: 40.0, score: 720.850525244\n",
      "Chunk count: 45.0, score: 725.94133708\n",
      "Chunk count: 50.0, score: 573.652235753\n",
      "Chunk count: 55.0, score: 666.203172986\n",
      "Chunk count: 60.0, score: 514.265862061\n",
      "Chunk count: 65.0, score: 500.091657169\n",
      "Chunk count: 70.0, score: 387.632321433\n",
      "Chunk count: 75.0, score: 393.203271804\n",
      "Chunk count: 80.0, score: 303.264436469\n"
     ]
    }
   ],
   "source": [
    "test_chunk_detector_params()"
   ]
  },
  {
   "cell_type": "markdown",
   "metadata": {},
   "source": [
    "## Testing EdgeDetector params"
   ]
  },
  {
   "cell_type": "code",
   "execution_count": 11,
   "metadata": {
    "collapsed": true
   },
   "outputs": [],
   "source": [
    "def test_edge_detector_params():\n",
    "    pass\n"
   ]
  },
  {
   "cell_type": "code",
   "execution_count": 12,
   "metadata": {
    "collapsed": true
   },
   "outputs": [],
   "source": [
    "test_edge_detector_params()"
   ]
  },
  {
   "cell_type": "markdown",
   "metadata": {},
   "source": [
    "## Testing ThresholdDetector params"
   ]
  },
  {
   "cell_type": "code",
   "execution_count": 6,
   "metadata": {
    "collapsed": true
   },
   "outputs": [],
   "source": [
    "def test_thres_detector_params():\n",
    "    max_score = 0.0\n",
    "    for r_approx in [cv2.CHAIN_APPROX_NONE, cv2.CHAIN_APPROX_SIMPLE, cv2.CHAIN_APPROX_TC89_L1]:\n",
    "        for r_type in [cv2.RETR_LIST, cv2.RETR_TREE, cv2.RETR_EXTERNAL]:\n",
    "            for min_poly in [3, 5, 7]:\n",
    "                for b_scale in [20, 30, 40]:\n",
    "                    for s_thres in [-30, 0, 30]:                                                                        \n",
    "                        thres_params = ThresholdParams(b_scale, s_thres, r_type, r_approx, min_poly)\n",
    "                        contours_detector = ThresholdDetector(thres_params)\n",
    "                        score = test_extract_params(contours_detector)['score']\n",
    "                        if score > max_score:\n",
    "                            max_score = score\n",
    "                            best_params = thres_params\n",
    "                        print(\"Params: {}, score: {} (best: {})\".format(thres_params, score, max_score))\n",
    "    return thres_params"
   ]
  },
  {
   "cell_type": "code",
   "execution_count": null,
   "metadata": {},
   "outputs": [
    {
     "name": "stdout",
     "output_type": "stream",
     "text": [
      "Params: ThresholdParams(block_scale=20, sub_threshold=-30, retr_type=1L, retr_approx=1L, min_poly=3), score: 0.0 (best: 0.0)\n",
      "Params: ThresholdParams(block_scale=20, sub_threshold=0, retr_type=1L, retr_approx=1L, min_poly=3), score: 0.0 (best: 0.0)\n",
      "Params: ThresholdParams(block_scale=20, sub_threshold=30, retr_type=1L, retr_approx=1L, min_poly=3), score: 0.0 (best: 0.0)\n",
      "Params: ThresholdParams(block_scale=30, sub_threshold=-30, retr_type=1L, retr_approx=1L, min_poly=3), score: 0.0 (best: 0.0)\n"
     ]
    }
   ],
   "source": [
    "test_thres_detector_params()"
   ]
  }
 ],
 "metadata": {
  "kernelspec": {
   "display_name": "Python 2",
   "language": "python",
   "name": "python2"
  },
  "language_info": {
   "codemirror_mode": {
    "name": "ipython",
    "version": 2
   },
   "file_extension": ".py",
   "mimetype": "text/x-python",
   "name": "python",
   "nbconvert_exporter": "python",
   "pygments_lexer": "ipython2",
   "version": "2.7.13"
  }
 },
 "nbformat": 4,
 "nbformat_minor": 2
}
