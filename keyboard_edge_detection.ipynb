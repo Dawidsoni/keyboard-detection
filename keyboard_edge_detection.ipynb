{
 "cells": [
  {
   "cell_type": "code",
   "execution_count": null,
   "metadata": {
    "collapsed": false
   },
   "outputs": [],
   "source": [
    "import cv2\n",
    "import numpy as np\n",
    "from matplotlib import pyplot as plt\n",
    "from collections import namedtuple\n",
    "%matplotlib inline"
   ]
  },
  {
   "cell_type": "code",
   "execution_count": null,
   "metadata": {
    "collapsed": false
   },
   "outputs": [],
   "source": [
    "det_params_names = ['min_edge_thres', 'max_edge_thres', 'retr_type', 'retr_approx', 'min_poly', 'max_area']\n",
    "DetectorParams = namedtuple('DetectorParams', det_params_names)\n",
    "\n",
    "class ContoursDetector:\n",
    "    def __init__(self, det_params):\n",
    "        self.det_params = det_params        \n",
    "        \n",
    "    def create_edged_image(self, image):\n",
    "        min_thres = self.det_params.min_edge_thres\n",
    "        max_thres = self.det_params.max_edge_thres\n",
    "        return cv2.cvtColor(image, cv2.COLOR_BGR2GRAY)#TODEL\n",
    "        return cv2.Canny(image, min_thres, max_thres)\n",
    "        \n",
    "    def is_contour_valid(self, contour):\n",
    "        if cv2.contourArea(contour) > self.det_params.max_area:\n",
    "            return False\n",
    "        if len(contour) > self.det_params.max_area:\n",
    "            return False\n",
    "        return True                \n",
    "        poly_tolerance = 0.01 * cv2.arcLength(contour, True)\n",
    "        poly_approx = cv2.approxPolyDP(contour, poly_tolerance, True)\n",
    "        return (len(poly_approx) > self.det_params.min_poly)\n",
    "        \n",
    "    def get_contours(self, image):\n",
    "        edged_image = self.create_edged_image(image)\n",
    "        ret, thresh = cv2.threshold(edged_image, 127, 255, 0)        \n",
    "        retr_type, retr_approx = self.det_params.retr_type, self.det_params.retr_approx\n",
    "        out_image, contours, hierarchy = cv2.findContours(thresh, retr_type, retr_approx)\n",
    "        return filter(self.is_contour_valid, contours)\n",
    "    \n",
    "    def create_contours_image(self, image):\n",
    "        contours_list = self.get_contours(image)\n",
    "        contours_image = image.copy()        \n",
    "        for cnt in contours_list:\n",
    "            contour_color = np.random.randint(255, size=3)\n",
    "            cv2.drawContours(contours_image, [cnt], 0, contour_color, -1)   \n",
    "        return contours_image\n",
    "    \n",
    "    def plot_contours_image(self, image):\n",
    "        edged_image = self.create_edged_image(image)\n",
    "        plt.figure(figsize=(14, 9))\n",
    "        plt.imshow(edged_image, cmap='gray')\n",
    "        plt.show()                \n",
    "        contours_image = self.create_contours_image(image)\n",
    "        plt.figure(figsize=(14, 9))\n",
    "        plt.imshow(contours_image)\n",
    "        plt.show()"
   ]
  },
  {
   "cell_type": "code",
   "execution_count": null,
   "metadata": {
    "collapsed": false
   },
   "outputs": [],
   "source": [
    "class ImageFragmentExtractor:\n",
    "    def __init__(self, image, fragment_scale):\n",
    "        self.image = image\n",
    "        self.fragment_scale = fragment_scale\n",
    "        \n",
    "    def get_scaled_size(self, start_point, end_point):\n",
    "        center_point = (start_point + end_point) / 2.0\n",
    "        start_scaled = center_point - self.fragment_scale * (center_point - start_point)\n",
    "        end_scaled = center_point + self.fragment_scale * (end_point - center_point)\n",
    "        return int(start_scaled), int(end_scaled)\n",
    "    \n",
    "    def extract_image_fragment(self, contour):\n",
    "        start_x, start_y, width, height = cv2.boundingRect(contour)\n",
    "        width, height = max(width, height), max(width, height)\n",
    "        start_x, end_x = self.get_scaled_size(start_x, start_x + width)\n",
    "        start_y, end_y = self.get_scaled_size(start_y, start_y + height)\n",
    "        return ((start_x, start_y), self.image[start_y:end_y, start_x:end_x, :])"
   ]
  },
  {
   "cell_type": "code",
   "execution_count": null,
   "metadata": {
    "collapsed": true
   },
   "outputs": [],
   "source": [
    "class ContourSizeEstimator:\n",
    "    MEAN_EST, MEDIAN_EST = 'MEAN_EST', 'MEDIAN_EST'\n",
    "    \n",
    "    def __init__(self, est_type=MEDIAN_EST):\n",
    "        self.est_type = est_type\n",
    "    \n",
    "    def get_estimated_size(self, contour_list):\n",
    "        if len(contour_list) == 0:\n",
    "            raise Exception(\"List of contours must be non-empty\")            \n",
    "        estimated_size_arr = np.array(map(lambda x: x.shape[0], contour_list))\n",
    "        if self.est_type == self.MEAN_EST:\n",
    "            return np.mean(estimated_size_arr)            \n",
    "        elif self.est_type == self.MEDIAN_EST:\n",
    "            return np.median(estimated_size_arr)\n",
    "        else:\n",
    "            raise Exception(\"Invalid estimation type\")"
   ]
  },
  {
   "cell_type": "code",
   "execution_count": null,
   "metadata": {
    "collapsed": true
   },
   "outputs": [],
   "source": [
    "class ImagePointFilter:\n",
    "    def __init__(self, filter_radius):\n",
    "        self.filter_radius = filter_radius\n",
    "        self.occupied_point_list = []\n",
    "        \n",
    "    def get_point_distance_square(self, point1, point2):\n",
    "        px, py = point1[0] - point2[0], point1[1] - point2[1]\n",
    "        return (px ** 2 + py ** 2)\n",
    "        \n",
    "    def validate_point(self, point):\n",
    "        for occupied_point in self.occupied_point_list:\n",
    "            dist = self.get_point_distance_square(point, occupied_point)\n",
    "            if dist <= self.filter_radius ** 2:\n",
    "                return False\n",
    "        self.occupied_point_list.append(point)\n",
    "        return True\n",
    "        \n",
    "    def filter_points(self, point_list):\n",
    "        return filter(self.validate_point, point_list)"
   ]
  },
  {
   "cell_type": "code",
   "execution_count": null,
   "metadata": {
    "collapsed": true
   },
   "outputs": [],
   "source": [
    "class ImageFragmentFilter:\n",
    "    def __init__(self, filter_radius):\n",
    "        self.image_point_filter = ImagePointFilter(filter_radius)\n",
    "        \n",
    "    def filter_fragments(self, fragment_list):\n",
    "        point_list = map(lambda x: x[0], fragment_list)\n",
    "        point_set = set(self.image_point_filter.filter_points(point_list))\n",
    "        filtered_fragment_list = []\n",
    "        for point, image in fragment_list:        \n",
    "            if image.shape[0] == 0 or image.shape[1] == 0:\n",
    "                continue\n",
    "            if point in point_set:\n",
    "                point_set.remove(point)\n",
    "                filtered_fragment_list.append((point, image))\n",
    "        return filtered_fragment_list"
   ]
  },
  {
   "cell_type": "code",
   "execution_count": null,
   "metadata": {
    "collapsed": false
   },
   "outputs": [],
   "source": [
    "def plot_fragments(fragment_list, plot_size=(16, 16), one_dim_subplot_count=8):\n",
    "    plot_counter = 0\n",
    "    subplot_count = one_dim_subplot_count ** 2\n",
    "    for fragment in fragment_list:\n",
    "        if plot_counter % subplot_count == 0:\n",
    "            plt.figure(figsize=plot_size)\n",
    "        plot_counter += 1\n",
    "        plot_num = plot_counter % subplot_count\n",
    "        if plot_num == 0:\n",
    "            plot_num = subplot_count\n",
    "        plt.subplot(one_dim_subplot_count, one_dim_subplot_count, plot_num) \n",
    "        plt.imshow(cv2.cvtColor(fragment[1], cv2.COLOR_RGB2GRAY), cmap='gray')\n",
    "        if plot_counter % subplot_count == 0:\n",
    "            plt.show()\n",
    "\n",
    "def get_det_params(image):\n",
    "    max_area = max(image.shape[0], image.shape[1])\n",
    "    print(max_area)\n",
    "    return DetectorParams(75, 200, cv2.RETR_LIST, cv2.CHAIN_APPROX_SIMPLE, 10, max_area)\n",
    "\n",
    "def test_image(image):\n",
    "    det_params = get_det_params(image)\n",
    "    contours_detector = ContoursDetector(det_params)\n",
    "    contours_detector.plot_contours_image(image)\n",
    "    contour_list = contours_detector.get_contours(image)\n",
    "    contour_size_estimator = ContourSizeEstimator()\n",
    "    est_contour_size = int(contour_size_estimator.get_estimated_size(contour_list))\n",
    "    print(\"Estimated contour size: %.2f\" % (est_contour_size))\n",
    "    fragment_extractor = ImageFragmentExtractor(image, 2.5)  \n",
    "    filter_size = min(image.shape[0], image.shape[1])\n",
    "    print(\"Filter size: %d\" % (filter_size))\n",
    "    image_fragment_filter = ImageFragmentFilter(filter_size)    \n",
    "    fragment_list = map(fragment_extractor.extract_image_fragment, contour_list)\n",
    "    fragment_list = image_fragment_filter.filter_fragments(fragment_list)\n",
    "    print(\"Fragments count: %d\" % (len(fragment_list)))\n",
    "    plot_fragments(fragment_list)        \n",
    "        \n",
    "def test_params(filepath_list):\n",
    "    for filepath in filepath_list:\n",
    "        image = cv2.imread(filepath, 1)\n",
    "        test_image(image)"
   ]
  },
  {
   "cell_type": "code",
   "execution_count": null,
   "metadata": {
    "collapsed": false,
    "scrolled": false
   },
   "outputs": [],
   "source": [
    "filepath_list = map(lambda x: \"keyboard{0}.jpg\".format(x), range(0, 19))\n",
    "test_params(filepath_list)"
   ]
  },
  {
   "cell_type": "code",
   "execution_count": null,
   "metadata": {
    "collapsed": true
   },
   "outputs": [],
   "source": []
  },
  {
   "cell_type": "code",
   "execution_count": null,
   "metadata": {
    "collapsed": true
   },
   "outputs": [],
   "source": []
  }
 ],
 "metadata": {
  "kernelspec": {
   "display_name": "Python 2",
   "language": "python",
   "name": "python2"
  },
  "language_info": {
   "codemirror_mode": {
    "name": "ipython",
    "version": 2
   },
   "file_extension": ".py",
   "mimetype": "text/x-python",
   "name": "python",
   "nbconvert_exporter": "python",
   "pygments_lexer": "ipython2",
   "version": "2.7.13"
  }
 },
 "nbformat": 4,
 "nbformat_minor": 2
}
