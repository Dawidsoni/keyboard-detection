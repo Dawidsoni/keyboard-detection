{
 "cells": [
  {
   "cell_type": "code",
   "execution_count": null,
   "metadata": {
    "collapsed": false
   },
   "outputs": [],
   "source": [
    "import cv2\n",
    "import imutils\n",
    "import numpy as np\n",
    "import matplotlib.pyplot as plt\n",
    "from PIL import ImageFont, ImageDraw, ImageOps, Image  \n",
    "import string\n",
    "import random\n",
    "%matplotlib inline"
   ]
  },
  {
   "cell_type": "code",
   "execution_count": null,
   "metadata": {
    "collapsed": true
   },
   "outputs": [],
   "source": [
    "class FontProxy:\n",
    "    FONT_NAMES = ['AndaleMono', 'Arial', 'CenturyGothic', 'FuturaBook', 'SansSerif']\n",
    "    \n",
    "    def __init__(self):\n",
    "        self.font_dict = {}\n",
    "        \n",
    "    def get_font_names(self):\n",
    "        return self.FONT_NAMES\n",
    "        \n",
    "    def generate_font(self, font_name, font_size):\n",
    "        if font_name not in self.get_font_names():\n",
    "            raise Exception(\"Invalid font name\")\n",
    "        font_key = (font_name, font_size)\n",
    "        if font_key not in self.font_dict:\n",
    "            font_path = \"fonts/{0}.ttf\".format(font_name)\n",
    "            self.font_dict[font_key] = ImageFont.truetype(font_path, font_size)\n",
    "        return self.font_dict[font_key]"
   ]
  },
  {
   "cell_type": "code",
   "execution_count": null,
   "metadata": {
    "collapsed": false,
    "scrolled": false
   },
   "outputs": [],
   "source": [
    "class ImageGenerator:\n",
    "    IMAGE_SIZE = 32\n",
    "    ANGLE_ACCURACY = 5\n",
    "    DEFAULT_FONT_SIZE = 35\n",
    "    MAX_COLOR_VAL = 255\n",
    "    \n",
    "    def __init__(self, max_color_diff=30):\n",
    "        self.max_color_diff = max_color_diff\n",
    "        self.font_proxy = FontProxy()\n",
    "        \n",
    "    def generate_position_and_scale(self):\n",
    "        scale = random.uniform(0.4, 1.0)        \n",
    "        max_pos = int(20 - ((scale - 0.4) / 0.6) * 20)\n",
    "        pos_x = random.choice(range(max_pos + 1))\n",
    "        pos_y = random.choice(range(max_pos + 1))   \n",
    "        return ((pos_x, pos_y), scale)        \n",
    "        \n",
    "    def generate_text(self):\n",
    "        return random.choice(string.ascii_uppercase + string.digits)\n",
    "\n",
    "    def generate_font(self, scale):\n",
    "        font_name = random.choice(self.font_proxy.get_font_names())\n",
    "        font_size = int(self.DEFAULT_FONT_SIZE * scale)\n",
    "        return self.font_proxy.generate_font(font_name, font_size)\n",
    "            \n",
    "    def generate_image_text_colors(self):\n",
    "        exclusive_max = self.MAX_COLOR_VAL + 1\n",
    "        image_color = random.choice(range(0, exclusive_max - self.max_color_diff))\n",
    "        text_color = random.choice(range(image_color + self.max_color_diff, exclusive_max))\n",
    "        return (image_color, text_color)\n",
    "        \n",
    "    def get_coloured_image(self, image):\n",
    "        if random.choice([False, True]):\n",
    "            return cv2.bitwise_not(image)\n",
    "        return image\n",
    "    \n",
    "    def generate_text_image(self):\n",
    "        text_pos, scale = self.generate_position_and_scale()        \n",
    "        text, font = self.generate_text(), self.generate_font(scale)\n",
    "        image_color, text_color = self.generate_image_text_colors()\n",
    "        np_image = np.ones((self.IMAGE_SIZE, self.IMAGE_SIZE), np.uint8) * image_color\n",
    "        pil_image = Image.fromarray(np_image)\n",
    "        offset = font.getoffset('TEXT')\n",
    "        drawing_pos = (text_pos[0] - offset[0], text_pos[1] - offset[1])\n",
    "        ImageDraw.Draw(pil_image).text(drawing_pos, text, text_color, font)  \n",
    "        return np.array(pil_image)  \n",
    "        \n",
    "    def generate_image(self):\n",
    "        image = self.generate_text_image()\n",
    "        return self.get_coloured_image(image)"
   ]
  },
  {
   "cell_type": "code",
   "execution_count": null,
   "metadata": {
    "collapsed": false,
    "scrolled": false
   },
   "outputs": [],
   "source": [
    "def plot_dataset(sample_count, one_dim_subplot_count=8):\n",
    "    subplot_count = one_dim_subplot_count ** 2    \n",
    "    for i in range(sample_count):\n",
    "        if i % subplot_count == 0:\n",
    "            plt.figure(figsize=(16, 16))\n",
    "        plot_num = (i + 1) % subplot_count\n",
    "        if plot_num == 0:\n",
    "            plot_num = subplot_count\n",
    "        plt.subplot(one_dim_subplot_count, one_dim_subplot_count, plot_num) \n",
    "        plt.imshow(ImageGenerator().generate_image(), cmap='gray', vmin=0, vmax=255)\n",
    "        if (i + 1) % subplot_count == 0:\n",
    "            plt.show()\n",
    "            \n",
    "plot_dataset(300)"
   ]
  }
 ],
 "metadata": {
  "kernelspec": {
   "display_name": "Python 2",
   "language": "python",
   "name": "python2"
  },
  "language_info": {
   "codemirror_mode": {
    "name": "ipython",
    "version": 2
   },
   "file_extension": ".py",
   "mimetype": "text/x-python",
   "name": "python",
   "nbconvert_exporter": "python",
   "pygments_lexer": "ipython2",
   "version": "2.7.13"
  }
 },
 "nbformat": 4,
 "nbformat_minor": 2
}
